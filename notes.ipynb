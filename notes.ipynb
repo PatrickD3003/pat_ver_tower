{
 "cells": [
  {
   "cell_type": "code",
   "execution_count": 9,
   "metadata": {},
   "outputs": [
    {
     "name": "stdout",
     "output_type": "stream",
     "text": [
      "<Group(1 sprites)>\n"
     ]
    },
    {
     "ename": "error",
     "evalue": "display Surface quit",
     "output_type": "error",
     "traceback": [
      "\u001b[0;31m---------------------------------------------------------------------------\u001b[0m",
      "\u001b[0;31merror\u001b[0m                                     Traceback (most recent call last)",
      "Cell \u001b[0;32mIn [9], line 98\u001b[0m\n\u001b[1;32m     94\u001b[0m         pygame\u001b[38;5;241m.\u001b[39mdisplay\u001b[38;5;241m.\u001b[39mupdate()\n\u001b[1;32m     97\u001b[0m \u001b[38;5;28;01mif\u001b[39;00m \u001b[38;5;18m__name__\u001b[39m \u001b[38;5;241m==\u001b[39m \u001b[38;5;124m\"\u001b[39m\u001b[38;5;124m__main__\u001b[39m\u001b[38;5;124m\"\u001b[39m:\n\u001b[0;32m---> 98\u001b[0m     \u001b[43mmain\u001b[49m\u001b[43m(\u001b[49m\u001b[43m)\u001b[49m\n",
      "Cell \u001b[0;32mIn [9], line 72\u001b[0m, in \u001b[0;36mmain\u001b[0;34m()\u001b[0m\n\u001b[1;32m     69\u001b[0m         \u001b[38;5;28;01mif\u001b[39;00m event\u001b[38;5;241m.\u001b[39mkey \u001b[38;5;241m==\u001b[39m pygame\u001b[38;5;241m.\u001b[39mK_r:\n\u001b[1;32m     70\u001b[0m             main()\n\u001b[0;32m---> 72\u001b[0m \u001b[43mdraw_window\u001b[49m\u001b[43m(\u001b[49m\u001b[43mleft_group\u001b[49m\u001b[43m,\u001b[49m\u001b[43m \u001b[49m\u001b[43mright_group\u001b[49m\u001b[43m)\u001b[49m\n\u001b[1;32m     75\u001b[0m \u001b[38;5;28;01mfor\u001b[39;00m entity \u001b[38;5;129;01min\u001b[39;00m left_soldiers_barrack:\n\u001b[1;32m     76\u001b[0m     entity\u001b[38;5;241m.\u001b[39mcollision_detector(right_group)\n",
      "Cell \u001b[0;32mIn [9], line 7\u001b[0m, in \u001b[0;36mdraw_window\u001b[0;34m(left_group, right_group)\u001b[0m\n\u001b[1;32m      5\u001b[0m \u001b[38;5;28;01mdef\u001b[39;00m \u001b[38;5;21mdraw_window\u001b[39m(left_group, right_group):\n\u001b[1;32m      6\u001b[0m     \u001b[38;5;28;01mfor\u001b[39;00m entity \u001b[38;5;129;01min\u001b[39;00m left_group:\n\u001b[0;32m----> 7\u001b[0m         \u001b[43mentity\u001b[49m\u001b[38;5;241;43m.\u001b[39;49m\u001b[43msummon\u001b[49m\u001b[43m(\u001b[49m\u001b[43m)\u001b[49m\n\u001b[1;32m      8\u001b[0m     \u001b[38;5;28;01mfor\u001b[39;00m entity \u001b[38;5;129;01min\u001b[39;00m right_group:\n\u001b[1;32m      9\u001b[0m         entity\u001b[38;5;241m.\u001b[39msummon()\n",
      "File \u001b[0;32m~/Desktop/programming/tower_game/tower.py:22\u001b[0m, in \u001b[0;36mTower.summon\u001b[0;34m(self)\u001b[0m\n\u001b[1;32m     21\u001b[0m \u001b[39mdef\u001b[39;00m \u001b[39msummon\u001b[39m(\u001b[39mself\u001b[39m):\n\u001b[0;32m---> 22\u001b[0m     \u001b[39mself\u001b[39;49m\u001b[39m.\u001b[39;49mwindow\u001b[39m.\u001b[39;49mblit(\u001b[39mself\u001b[39;49m\u001b[39m.\u001b[39;49mtower_image, (\u001b[39mself\u001b[39;49m\u001b[39m.\u001b[39;49mrect\u001b[39m.\u001b[39;49mx, \u001b[39mself\u001b[39;49m\u001b[39m.\u001b[39;49mrect\u001b[39m.\u001b[39;49my))\n",
      "\u001b[0;31merror\u001b[0m: display Surface quit"
     ]
    }
   ],
   "source": [
    "import pygame\n",
    "from tower import Tower\n",
    "from soldier import Soldier\n",
    "\n",
    "def draw_window(left_group, right_group):\n",
    "    for entity in left_group:\n",
    "        entity.summon()\n",
    "    for entity in right_group:\n",
    "        entity.summon()\n",
    "\n",
    "\n",
    "\n",
    "def main():\n",
    "    pygame.init()\n",
    "    # initial setups\n",
    "    WIDTH, HEIGHT = 1200, 500\n",
    "    FPS = 60\n",
    "    WINDOW = pygame.display.set_mode((WIDTH, HEIGHT))\n",
    "    pygame.display.set_caption(\"Tower Game\")\n",
    "    ROTATE = True  # right team\n",
    "    NO_ROTATE = False  # left team\n",
    "\n",
    "    # basic colors rgb black white\n",
    "    WHITE = (255, 255, 255)\n",
    "\n",
    "    run = True\n",
    "    clock = pygame.time.Clock()\n",
    "\n",
    "    left_group = pygame.sprite.Group()\n",
    "    right_group = pygame.sprite.Group()\n",
    "\n",
    "    left_soldiers_barrack = []\n",
    "    right_soldiers_barrack = []\n",
    "\n",
    "    all_left = []\n",
    "    all_right = []\n",
    "\n",
    "    left_tower = Tower(NO_ROTATE, WINDOW)\n",
    "    right_tower = Tower(ROTATE, WINDOW)\n",
    "\n",
    "    right_group.add(right_tower)\n",
    "    left_group.add(left_tower)\n",
    "    all_right.append(right_tower)\n",
    "    all_left.append(left_tower)\n",
    "\n",
    "    print(left_group)\n",
    "    while run:\n",
    "        clock.tick(FPS)\n",
    "        WINDOW.fill(WHITE)\n",
    "        #pygame.display.flip()\n",
    "        for event in pygame.event.get():\n",
    "            if event.type == pygame.QUIT:\n",
    "                run = False\n",
    "                pygame.quit()\n",
    "\n",
    "            if event.type == pygame.KEYDOWN: \n",
    "                if event.key == pygame.K_1:  # summon left side soldier\n",
    "                    left_soldier = Soldier(NO_ROTATE, WINDOW)\n",
    "                    left_soldiers_barrack.append(left_soldier)\n",
    "                    left_group.add(left_soldier)\n",
    "                    all_left.append(left_soldier)\n",
    "\n",
    "                if event.key == pygame.K_LEFT:  # summon right side soldier\n",
    "                    right_soldier = Soldier(ROTATE, WINDOW)\n",
    "                    right_soldiers_barrack.append(right_soldier)\n",
    "                    right_group.add(right_soldier)\n",
    "                    all_right.append(right_soldier)\n",
    "                \n",
    "                if event.key == pygame.K_r:\n",
    "                    main()\n",
    "\n",
    "        draw_window(left_group, right_group)\n",
    "\n",
    "\n",
    "        for entity in left_soldiers_barrack:\n",
    "            entity.collision_detector(right_group)\n",
    "            if entity.collide == False:\n",
    "                entity.move()\n",
    "            elif entity.collide == True:\n",
    "                entity.stop()\n",
    "                # entity.attack(right_offense)  # tambahin fungsi attack disini\n",
    "            continue\n",
    "\n",
    "            \n",
    "        for entity in right_soldiers_barrack:\n",
    "            entity.collision_detector(left_group)\n",
    "            if entity.collide == False:\n",
    "                entity.move()\n",
    "            elif entity.collide == True:\n",
    "                entity.stop()\n",
    "                # entity.attack(left_offense, left_soldiers_barrack)\n",
    "            continue\n",
    "            \n",
    "        pygame.display.update()\n",
    "\n",
    "\n",
    "if __name__ == \"__main__\":\n",
    "    main()"
   ]
  },
  {
   "cell_type": "code",
   "execution_count": null,
   "metadata": {},
   "outputs": [],
   "source": [
    "class ABC:\n",
    "    def __init__(self):\n",
    "        self.word = \"abc\"\n",
    "\n"
   ]
  }
 ],
 "metadata": {
  "kernelspec": {
   "display_name": "Python 3.9.6 64-bit",
   "language": "python",
   "name": "python3"
  },
  "language_info": {
   "codemirror_mode": {
    "name": "ipython",
    "version": 3
   },
   "file_extension": ".py",
   "mimetype": "text/x-python",
   "name": "python",
   "nbconvert_exporter": "python",
   "pygments_lexer": "ipython3",
   "version": "3.9.6"
  },
  "orig_nbformat": 4,
  "vscode": {
   "interpreter": {
    "hash": "31f2aee4e71d21fbe5cf8b01ff0e069b9275f58929596ceb00d14d90e3e16cd6"
   }
  }
 },
 "nbformat": 4,
 "nbformat_minor": 2
}
